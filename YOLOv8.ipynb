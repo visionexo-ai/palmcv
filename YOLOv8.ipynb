{
  "cells": [
    {
      "cell_type": "markdown",
      "metadata": {
        "id": "view-in-github",
        "colab_type": "text"
      },
      "source": [
        "<a href=\"https://colab.research.google.com/github/yohanesnuwara/PalmCV/blob/main/YOLOv8.ipynb\" target=\"_parent\"><img src=\"https://colab.research.google.com/assets/colab-badge.svg\" alt=\"Open In Colab\"/></a>"
      ]
    },
    {
      "cell_type": "code",
      "source": [
        "from google.colab import drive\n",
        "drive.mount('/content/drive')"
      ],
      "metadata": {
        "id": "4z8GyKSNcZ20"
      },
      "execution_count": null,
      "outputs": []
    },
    {
      "cell_type": "code",
      "source": [
        "!unzip /content/agrari_v1.v1-version_prelim.yolov8.zip"
      ],
      "metadata": {
        "id": "OQb0MCYGc6Z1"
      },
      "execution_count": null,
      "outputs": []
    },
    {
      "cell_type": "code",
      "source": [
        "# Pip install method (recommended)\n",
        "%pip install ultralytics\n",
        "import ultralytics\n",
        "ultralytics.checks()"
      ],
      "metadata": {
        "id": "_FEjn4k9dXGt",
        "outputId": "4a10bb50-40ce-47c7-ddf2-c7dbd94de471",
        "colab": {
          "base_uri": "https://localhost:8080/"
        }
      },
      "execution_count": null,
      "outputs": [
        {
          "output_type": "stream",
          "name": "stderr",
          "text": [
            "Ultralytics YOLOv8.0.58 🚀 Python-3.9.16 torch-1.13.1+cu116 CUDA:0 (Tesla T4, 15102MiB)\n",
            "Setup complete ✅ (2 CPUs, 12.7 GB RAM, 25.6/78.2 GB disk)\n"
          ]
        }
      ]
    },
    {
      "cell_type": "code",
      "source": [
        "# Git clone method (for development)\n",
        "!git clone https://github.com/ultralytics/ultralytics\n",
        "%pip install -qe ultralytics"
      ],
      "metadata": {
        "id": "sp0Fo1VBdeoB",
        "outputId": "7714e35f-6a22-4a26-a556-f410b76768bf",
        "colab": {
          "base_uri": "https://localhost:8080/"
        }
      },
      "execution_count": null,
      "outputs": [
        {
          "output_type": "stream",
          "name": "stdout",
          "text": [
            "Cloning into 'ultralytics'...\n",
            "remote: Enumerating objects: 4753, done.\u001b[K\n",
            "remote: Counting objects: 100% (388/388), done.\u001b[K\n",
            "remote: Compressing objects: 100% (223/223), done.\u001b[K\n",
            "remote: Total 4753 (delta 229), reused 289 (delta 161), pack-reused 4365\u001b[K\n",
            "Receiving objects: 100% (4753/4753), 4.09 MiB | 17.91 MiB/s, done.\n",
            "Resolving deltas: 100% (3106/3106), done.\n",
            "  Preparing metadata (setup.py) ... \u001b[?25l\u001b[?25hdone\n"
          ]
        }
      ]
    },
    {
      "cell_type": "code",
      "source": [
        "!yolo train model=yolov8s.pt data=data.yaml epochs=100 imgsz=640"
      ],
      "metadata": {
        "id": "eYB2o3qXdzMj"
      },
      "execution_count": null,
      "outputs": []
    },
    {
      "cell_type": "code",
      "source": [
        "!zip -r /content/agrari_yolov8.zip /content/runs"
      ],
      "metadata": {
        "id": "gawF2e-9hMpJ",
        "outputId": "2a547a47-a0ec-46ac-bda8-62334202c606",
        "colab": {
          "base_uri": "https://localhost:8080/"
        }
      },
      "execution_count": null,
      "outputs": [
        {
          "output_type": "stream",
          "name": "stdout",
          "text": [
            "  adding: content/runs/ (stored 0%)\n",
            "  adding: content/runs/detect/ (stored 0%)\n",
            "  adding: content/runs/detect/train/ (stored 0%)\n",
            "  adding: content/runs/detect/train/train_batch450.jpg (deflated 6%)\n",
            "  adding: content/runs/detect/train/train_batch452.jpg (deflated 4%)\n",
            "  adding: content/runs/detect/train/labels_correlogram.jpg (deflated 38%)\n",
            "  adding: content/runs/detect/train/args.yaml (deflated 51%)\n",
            "  adding: content/runs/detect/train/labels.jpg (deflated 25%)\n",
            "  adding: content/runs/detect/train/P_curve.png (deflated 5%)\n",
            "  adding: content/runs/detect/train/events.out.tfevents.1680187074.472fcef5e7df.2034.0 (deflated 71%)\n",
            "  adding: content/runs/detect/train/train_batch2.jpg (deflated 1%)\n",
            "  adding: content/runs/detect/train/train_batch1.jpg (deflated 2%)\n",
            "  adding: content/runs/detect/train/confusion_matrix.png (deflated 18%)\n",
            "  adding: content/runs/detect/train/results.png (deflated 8%)\n",
            "  adding: content/runs/detect/train/train_batch451.jpg (deflated 4%)\n",
            "  adding: content/runs/detect/train/R_curve.png (deflated 9%)\n",
            "  adding: content/runs/detect/train/val_batch0_labels.jpg (deflated 5%)\n",
            "  adding: content/runs/detect/train/results.csv (deflated 85%)\n",
            "  adding: content/runs/detect/train/F1_curve.png (deflated 9%)\n",
            "  adding: content/runs/detect/train/val_batch0_pred.jpg (deflated 5%)\n",
            "  adding: content/runs/detect/train/weights/ (stored 0%)\n",
            "  adding: content/runs/detect/train/weights/best.pt (deflated 8%)\n",
            "  adding: content/runs/detect/train/weights/last.pt (deflated 8%)\n",
            "  adding: content/runs/detect/train/train_batch0.jpg (deflated 1%)\n",
            "  adding: content/runs/detect/train/PR_curve.png (deflated 8%)\n"
          ]
        }
      ]
    },
    {
      "cell_type": "code",
      "source": [
        "!mkdir /content/paper"
      ],
      "metadata": {
        "id": "gj9o2tW92WEy"
      },
      "execution_count": null,
      "outputs": []
    },
    {
      "cell_type": "code",
      "source": [
        "!yolo predict model='/content/runs/detect/train/weights/best.pt' source='/content/test/images'"
      ],
      "metadata": {
        "id": "1DrN5JFF2a_b",
        "outputId": "b23c441e-937b-4fdb-e467-31f5e35f617a",
        "colab": {
          "base_uri": "https://localhost:8080/"
        }
      },
      "execution_count": null,
      "outputs": [
        {
          "output_type": "stream",
          "name": "stdout",
          "text": [
            "Ultralytics YOLOv8.0.58 🚀 Python-3.9.16 torch-1.13.1+cu116 CUDA:0 (Tesla T4, 15102MiB)\n",
            "Model summary (fused): 168 layers, 11131389 parameters, 0 gradients, 28.5 GFLOPs\n",
            "\n",
            "image 1/19 /content/test/images/Jeruk-1-3-tahun-barat_jpg.rf.cf6f11d3c72ce97d65cc40fdc641611e.jpg: 640x640 6 pw0_muluss, 1 pw25_mulus, 17.0ms\n",
            "image 2/19 /content/test/images/Jeruk-11-3-tahun-selatan_jpg.rf.dfde4f30283eeaead34e22de6cd83133.jpg: 640x640 5 pw0_muluss, 17.2ms\n",
            "image 3/19 /content/test/images/Jeruk-13-3-tahun-selatan_jpg.rf.4570ddcd43c057ef325d90d74c508826.jpg: 640x640 1 pw0_mulus, 17.1ms\n",
            "image 4/19 /content/test/images/Jeruk-13-3-tahun-timur_jpg.rf.99c8d26b8967cd01887b3282f3c774ec.jpg: 640x640 25 pw0_muluss, 17.1ms\n",
            "image 5/19 /content/test/images/Jeruk-14-3-tahun-barat_jpg.rf.969d4ee415d6a354e567d9266e686383.jpg: 640x640 3 jeruk_kecils, 1 pw0_mulus, 4 pw100_muluss, 1 pw25_mulus, 16.7ms\n",
            "image 6/19 /content/test/images/Jeruk-2-4-tahun-selatan_jpg.rf.57d9cea118c644f4a7f975b05fd6e9c8.jpg: 640x640 3 pw0_muluss, 16.8ms\n",
            "image 7/19 /content/test/images/Jeruk-21-3-tahun-selatan_jpg.rf.7b4e63c65be0134e0ab03164715e3d54.jpg: 640x640 2 pw0_muluss, 16.8ms\n",
            "image 8/19 /content/test/images/Jeruk-22-3-tahun-barat_jpg.rf.40125924070a37b9a2bf200a5b058ad6.jpg: 640x640 7 pw0_muluss, 2 pw75_KHs, 18.0ms\n",
            "image 9/19 /content/test/images/Jeruk-22-3-tahun-selatan_jpg.rf.80fcbec7a1a7abe06aa0c71c5691bcf4.jpg: 640x640 1 jeruk_kecil, 17 pw0_muluss, 16.7ms\n",
            "image 10/19 /content/test/images/Jeruk-22-3-tahun-timur_jpg.rf.b90fd85aa1be077b4a19a8e9c3963c8d.jpg: 640x640 3 pw0_muluss, 16.7ms\n",
            "image 11/19 /content/test/images/Jeruk-23-3-tahun-barat_jpg.rf.01343bc1e05a8654bbd2acaa2fd8c0f8.jpg: 640x640 1 pw0_mulus, 16.7ms\n",
            "image 12/19 /content/test/images/Jeruk-25-3-tahun-selatan_jpg.rf.77a931b66588d22de371c1ddd39b889d.jpg: 640x640 20 pw0_muluss, 2 pw100_muluss, 4 pw75_KHs, 12.1ms\n",
            "image 13/19 /content/test/images/Jeruk-27-3-tahun-selatan_jpg.rf.42fc5a59d26787288a2cc939f367e067.jpg: 640x640 2 pw0_muluss, 1 pw75_KH, 11.3ms\n",
            "image 14/19 /content/test/images/Jeruk-27-3-tahun-utara_jpg.rf.e6d0102c619396097967f89b687e27ea.jpg: 640x640 1 pw0_mulus, 1 pw100_mulus, 2 pw75_KHs, 11.3ms\n",
            "image 15/19 /content/test/images/Jeruk-28-3-tahun-utara_jpg.rf.039f03a02ed81108b23d936ece93b787.jpg: 640x640 5 pw0_muluss, 2 pw75_KHs, 11.3ms\n",
            "image 16/19 /content/test/images/Jeruk-29-3-tahun-utara_jpg.rf.5ec576910722c1cca3ad27ced2e54260.jpg: 640x640 2 pw0_muluss, 11.3ms\n",
            "image 17/19 /content/test/images/Jeruk-30-3-tahun-barat_jpg.rf.3956507ef27c4eecbe7fe01b5077b23a.jpg: 640x640 1 pw0_mulus, 11.1ms\n",
            "image 18/19 /content/test/images/Jeruk-30-3-tahun-selatan_jpg.rf.9475b8f7f98d26b6b967adebba7e0fc5.jpg: 640x640 (no detections), 10.9ms\n",
            "image 19/19 /content/test/images/Jeruk-7-5-tahun-timur_jpg.rf.2beae3aa57db38d7011bae9b573b83b6.jpg: 640x640 1 jeruk_kecil, 3 pw0_muluss, 1 pw75_mulus, 10.9ms\n",
            "Speed: 0.5ms preprocess, 14.6ms inference, 1.4ms postprocess per image at shape (1, 3, 640, 640)\n"
          ]
        }
      ]
    },
    {
      "cell_type": "code",
      "source": [
        "!yolo task=detect mode=predict model='/content/runs/detect/train/weights/best.pt' source='/content/test/images' save_txt=True save=True\n"
      ],
      "metadata": {
        "colab": {
          "base_uri": "https://localhost:8080/"
        },
        "id": "Awm9Zun3AU4M",
        "outputId": "cce5956b-253f-45bb-c91b-cf6a8afda851"
      },
      "execution_count": null,
      "outputs": [
        {
          "output_type": "stream",
          "name": "stdout",
          "text": [
            "Ultralytics YOLOv8.0.58 🚀 Python-3.9.16 torch-1.13.1+cu116 CUDA:0 (Tesla T4, 15102MiB)\n",
            "Model summary (fused): 168 layers, 11131389 parameters, 0 gradients, 28.5 GFLOPs\n",
            "\n",
            "image 1/19 /content/test/images/Jeruk-1-3-tahun-barat_jpg.rf.cf6f11d3c72ce97d65cc40fdc641611e.jpg: 640x640 6 pw0_muluss, 1 pw25_mulus, 17.3ms\n",
            "image 2/19 /content/test/images/Jeruk-11-3-tahun-selatan_jpg.rf.dfde4f30283eeaead34e22de6cd83133.jpg: 640x640 5 pw0_muluss, 17.1ms\n",
            "image 3/19 /content/test/images/Jeruk-13-3-tahun-selatan_jpg.rf.4570ddcd43c057ef325d90d74c508826.jpg: 640x640 1 pw0_mulus, 17.1ms\n",
            "image 4/19 /content/test/images/Jeruk-13-3-tahun-timur_jpg.rf.99c8d26b8967cd01887b3282f3c774ec.jpg: 640x640 25 pw0_muluss, 17.2ms\n",
            "image 5/19 /content/test/images/Jeruk-14-3-tahun-barat_jpg.rf.969d4ee415d6a354e567d9266e686383.jpg: 640x640 3 jeruk_kecils, 1 pw0_mulus, 4 pw100_muluss, 1 pw25_mulus, 17.2ms\n",
            "image 6/19 /content/test/images/Jeruk-2-4-tahun-selatan_jpg.rf.57d9cea118c644f4a7f975b05fd6e9c8.jpg: 640x640 3 pw0_muluss, 17.2ms\n",
            "image 7/19 /content/test/images/Jeruk-21-3-tahun-selatan_jpg.rf.7b4e63c65be0134e0ab03164715e3d54.jpg: 640x640 2 pw0_muluss, 15.5ms\n",
            "image 8/19 /content/test/images/Jeruk-22-3-tahun-barat_jpg.rf.40125924070a37b9a2bf200a5b058ad6.jpg: 640x640 7 pw0_muluss, 2 pw75_KHs, 15.6ms\n",
            "image 9/19 /content/test/images/Jeruk-22-3-tahun-selatan_jpg.rf.80fcbec7a1a7abe06aa0c71c5691bcf4.jpg: 640x640 1 jeruk_kecil, 17 pw0_muluss, 15.5ms\n",
            "image 10/19 /content/test/images/Jeruk-22-3-tahun-timur_jpg.rf.b90fd85aa1be077b4a19a8e9c3963c8d.jpg: 640x640 3 pw0_muluss, 15.5ms\n",
            "image 11/19 /content/test/images/Jeruk-23-3-tahun-barat_jpg.rf.01343bc1e05a8654bbd2acaa2fd8c0f8.jpg: 640x640 1 pw0_mulus, 15.5ms\n",
            "image 12/19 /content/test/images/Jeruk-25-3-tahun-selatan_jpg.rf.77a931b66588d22de371c1ddd39b889d.jpg: 640x640 20 pw0_muluss, 2 pw100_muluss, 4 pw75_KHs, 15.2ms\n",
            "image 13/19 /content/test/images/Jeruk-27-3-tahun-selatan_jpg.rf.42fc5a59d26787288a2cc939f367e067.jpg: 640x640 2 pw0_muluss, 1 pw75_KH, 15.2ms\n",
            "image 14/19 /content/test/images/Jeruk-27-3-tahun-utara_jpg.rf.e6d0102c619396097967f89b687e27ea.jpg: 640x640 1 pw0_mulus, 1 pw100_mulus, 2 pw75_KHs, 15.2ms\n",
            "image 15/19 /content/test/images/Jeruk-28-3-tahun-utara_jpg.rf.039f03a02ed81108b23d936ece93b787.jpg: 640x640 5 pw0_muluss, 2 pw75_KHs, 15.2ms\n",
            "image 16/19 /content/test/images/Jeruk-29-3-tahun-utara_jpg.rf.5ec576910722c1cca3ad27ced2e54260.jpg: 640x640 2 pw0_muluss, 15.2ms\n",
            "image 17/19 /content/test/images/Jeruk-30-3-tahun-barat_jpg.rf.3956507ef27c4eecbe7fe01b5077b23a.jpg: 640x640 1 pw0_mulus, 15.1ms\n",
            "image 18/19 /content/test/images/Jeruk-30-3-tahun-selatan_jpg.rf.9475b8f7f98d26b6b967adebba7e0fc5.jpg: 640x640 (no detections), 15.1ms\n",
            "image 19/19 /content/test/images/Jeruk-7-5-tahun-timur_jpg.rf.2beae3aa57db38d7011bae9b573b83b6.jpg: 640x640 1 jeruk_kecil, 3 pw0_muluss, 1 pw75_mulus, 15.2ms\n",
            "Speed: 0.7ms preprocess, 15.9ms inference, 1.5ms postprocess per image at shape (1, 3, 640, 640)\n",
            "Results saved to \u001b[1mruns/detect/predict\u001b[0m\n",
            "18 labels saved to runs/detect/predict/labels\n"
          ]
        }
      ]
    },
    {
      "cell_type": "code",
      "source": [
        "!mkdir /content/arxiv_prediction_result"
      ],
      "metadata": {
        "id": "_sarlRmV4unm"
      },
      "execution_count": null,
      "outputs": []
    },
    {
      "cell_type": "code",
      "source": [
        "!yolo task=detect mode=predict model='/content/runs/detect/train/weights/best.pt' source='/content/paper/' save_txt=True save=True\n"
      ],
      "metadata": {
        "id": "jZpsagNq4R4m",
        "outputId": "c658867d-dad9-4ddb-8dfd-e2d56061c28d",
        "colab": {
          "base_uri": "https://localhost:8080/"
        }
      },
      "execution_count": null,
      "outputs": [
        {
          "output_type": "stream",
          "name": "stdout",
          "text": [
            "Ultralytics YOLOv8.0.35 🚀 Python-3.8.10 torch-1.13.1+cu116 CUDA:0 (Tesla T4, 15110MiB)\n",
            "Model summary (fused): 168 layers, 11129067 parameters, 0 gradients, 28.5 GFLOPs\n",
            "\n",
            "image 1/6 /content/paper/1804.02767_00001.jpg: 640x512 1 abstract, 1 figure, 1 head, 1 paragraph_left, 2 paragraph_rights, 15.6ms\n",
            "image 2/6 /content/paper/1804.02767_00002.jpg: 640x512 1 figure, 1 paragraph_left, 1 paragraph_right, 12.9ms\n",
            "image 3/6 /content/paper/1804.02767_00003.jpg: 640x512 1 paragraph_left, 1 paragraph_right, 1 reference, 2 tables, 12.9ms\n",
            "image 4/6 /content/paper/1804.02767_00004.jpg: 640x512 1 figure, 1 paragraph_left, 1 paragraph_right, 12.9ms\n",
            "image 5/6 /content/paper/1804.02767_00005.jpg: 640x512 2 references, 13.0ms\n",
            "image 6/6 /content/paper/1804.02767_00006.jpg: 640x512 4 figures, 1 paragraph_left, 2 paragraph_rights, 12.9ms\n",
            "Speed: 0.6ms pre-process, 13.4ms inference, 1.6ms postprocess per image at shape (1, 3, 640, 640)\n",
            "Results saved to \u001b[1mruns/detect/predict3\u001b[0m\n",
            "6 labels saved to runs/detect/predict3/labels\n"
          ]
        }
      ]
    }
  ],
  "metadata": {
    "colab": {
      "provenance": [],
      "include_colab_link": true
    },
    "kernelspec": {
      "display_name": "Python 3",
      "name": "python3"
    },
    "accelerator": "GPU",
    "gpuClass": "standard"
  },
  "nbformat": 4,
  "nbformat_minor": 0
}